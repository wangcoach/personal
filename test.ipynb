{
 "cells": [
  {
   "cell_type": "markdown",
   "id": "ef7c41be",
   "metadata": {},
   "source": [
    "### 计算输出1"
   ]
  },
  {
   "cell_type": "code",
   "execution_count": 22,
   "id": "7f540dce",
   "metadata": {},
   "outputs": [],
   "source": [
    "import pandas as pd\n",
    "import numpy as np\n",
    "\n",
    "# 假设df已生成\n",
    "\n",
    "a_orig_list = sorted(df['A_orig'].unique())\n",
    "a_list = [df[df['A_orig']==a]['A'].iloc[0] for a in a_orig_list]\n",
    "b_orig_list = sorted(df['B_orig'].unique(), reverse=True)\n",
    "\n",
    "# 先用pivot_table快速生成二维表\n",
    "pivot = df.pivot(index='B_orig', columns='A_orig', values='target')\n",
    "b_map = df.drop_duplicates('B_orig').set_index('B_orig')['B']\n",
    "\n",
    "# 构造最终输出\n",
    "header1 = ['', '', 'A_orig'] + [str(a) for a in a_orig_list]\n",
    "header2 = ['B_orig', 'B', 'A'] + [str(a) for a in a_list]\n",
    "data_rows = []\n",
    "\n",
    "for b in b_orig_list:\n",
    "    row = [b, b_map[b], '']\n",
    "    row += [pivot.loc[b, a] if a in pivot.columns else np.nan for a in a_orig_list]\n",
    "    data_rows.append(row)\n",
    "\n",
    "all_rows = [header1, header2] + data_rows\n",
    "\n",
    "pd.DataFrame(all_rows).to_csv('output.csv', header=False, index=False, encoding='utf-8-sig')"
   ]
  },
  {
   "cell_type": "markdown",
   "id": "da949454",
   "metadata": {},
   "source": [
    "### 计算输出2"
   ]
  },
  {
   "cell_type": "code",
   "execution_count": 24,
   "id": "602da0f1",
   "metadata": {},
   "outputs": [
    {
     "name": "stderr",
     "output_type": "stream",
     "text": [
      "生成数据行: 100%|██████████| 800/800 [00:35<00:00, 22.77it/s]\n"
     ]
    }
   ],
   "source": [
    "import pandas as pd\n",
    "import numpy as np\n",
    "from tqdm import tqdm\n",
    "\n",
    "# 假设df已生成\n",
    "\n",
    "# 按B_orig分组，对A_orig排序后对target做diff\n",
    "df_sorted = df.sort_values(['B_orig', 'A_orig'])\n",
    "df_sorted['target_diff'] = df_sorted.groupby('B_orig')['target'].diff()\n",
    "\n",
    "a_orig_list = sorted(df_sorted['A_orig'].unique())\n",
    "a_list = [df_sorted[df_sorted['A_orig']==a]['A'].iloc[0] for a in a_orig_list]\n",
    "b_orig_list = sorted(df_sorted['B_orig'].unique(), reverse=True)\n",
    "\n",
    "pivot = df_sorted.pivot(index='B_orig', columns='A_orig', values='target_diff')\n",
    "b_map = df_sorted.drop_duplicates('B_orig').set_index('B_orig')['B']\n",
    "\n",
    "header1 = ['', '', 'A_orig'] + [str(a) for a in a_orig_list]\n",
    "header2 = ['B_orig', 'B', 'A'] + [str(a) for a in a_list]\n",
    "data_rows = []\n",
    "\n",
    "for b in tqdm(b_orig_list, desc=\"生成数据行\"):\n",
    "    row = [b, b_map[b], '']\n",
    "    row += [pivot.loc[b, a] if a in pivot.columns else np.nan for a in a_orig_list]\n",
    "    data_rows.append(row)\n",
    "\n",
    "all_rows = [header1, header2] + data_rows\n",
    "\n",
    "pd.DataFrame(all_rows).to_csv('output2.csv', header=False, index=False, encoding='utf-8-sig')"
   ]
  },
  {
   "cell_type": "markdown",
   "id": "2cf64b83",
   "metadata": {},
   "source": [
    "### 计算输出3"
   ]
  },
  {
   "cell_type": "code",
   "execution_count": 31,
   "id": "3f2ff2d2",
   "metadata": {},
   "outputs": [
    {
     "name": "stdout",
     "output_type": "stream",
     "text": [
      "   A  B  A_bin  B_bin  label\n",
      "0  0  0      0      0      1\n",
      "1  1  0      0      0      1\n",
      "2  2  0      0      0      1\n",
      "3  3  0      0      0      1\n",
      "4  4  0      0      0      1\n",
      "5  5  0      0      0      1\n",
      "6  6  0      0      0      1\n",
      "7  7  0      0      0      1\n",
      "8  8  0      0      0      1\n",
      "9  9  0      0      0      1\n",
      "label\n",
      "1     400000\n",
      "2     200000\n",
      "3     200000\n",
      "4     200000\n",
      "5     200000\n",
      "6     200000\n",
      "7     100000\n",
      "8     100000\n",
      "9     800000\n",
      "10    400000\n",
      "11    400000\n",
      "12    400000\n",
      "13    400000\n",
      "14    400000\n",
      "15    200000\n",
      "16    200000\n",
      "17    200000\n",
      "18    100000\n",
      "19    100000\n",
      "20    100000\n",
      "21    100000\n",
      "22    100000\n",
      "23     50000\n",
      "24     50000\n",
      "25    200000\n",
      "26    100000\n",
      "27    100000\n",
      "28    100000\n",
      "29    100000\n",
      "30    100000\n",
      "31     50000\n",
      "32     50000\n",
      "Name: count, dtype: int64\n",
      "label种类数: 32\n"
     ]
    }
   ],
   "source": [
    "import pandas as pd\n",
    "import numpy as np\n",
    "\n",
    "# 生成坐标点\n",
    "x = np.arange(0, 8000)\n",
    "y = np.arange(0, 800)\n",
    "xx, yy = np.meshgrid(x, y)\n",
    "A = xx.ravel()\n",
    "B = yy.ravel()\n",
    "A_orig = A - 5\n",
    "B_orig = B - 6\n",
    "target = A + B\n",
    "\n",
    "df = pd.DataFrame({\n",
    "    'A': A,\n",
    "    'A_orig': A_orig,\n",
    "    'B': B,\n",
    "    'B_orig': B_orig,\n",
    "    'target': target\n",
    "})\n",
    "\n",
    "# x分区：2-1-1-1-1-1-1-2，总长8000\n",
    "x_bins = [0, 2000, 3000, 4000, 5000, 6000, 7000,7500, 8000]\n",
    "# y分区：3-1-1-2，总长800，应该是[0, 600, 700, 800]，但要4段，需要5个点\n",
    "y_bins = [0, 200, 600, 700, 800]  # 3:200, 1:400, 1:100, 2:100\n",
    "\n",
    "# 检查分区数量\n",
    "assert len(x_bins) == 8 + 1\n",
    "assert len(y_bins) == 4 + 1\n",
    "\n",
    "df['A_bin'] = pd.cut(df['A'], bins=x_bins, labels=False, right=False, include_lowest=True)\n",
    "df['B_bin'] = pd.cut(df['B'], bins=y_bins, labels=False, right=False, include_lowest=True)\n",
    "\n",
    "df['label'] = df['B_bin'] * 8 + df['A_bin'] + 1\n",
    "\n",
    "print(df[['A', 'B', 'A_bin', 'B_bin', 'label']].head(10))\n",
    "print(df['label'].value_counts().sort_index())\n",
    "print('label种类数:', df['label'].nunique())"
   ]
  },
  {
   "cell_type": "code",
   "execution_count": 33,
   "id": "b630a32e",
   "metadata": {},
   "outputs": [
    {
     "name": "stdout",
     "output_type": "stream",
     "text": [
      "x方向采样点数: 80\n",
      "y方向采样点数: 40\n",
      "采样点总数: 3200\n"
     ]
    },
    {
     "data": {
      "image/png": "[encoded data removed]",
      "text/plain": [
       "<Figure size 1000x600 with 2 Axes>"
      ]
     },
     "metadata": {},
     "output_type": "display_data"
    }
   ],
   "source": [
    "import pandas as pd\n",
    "import numpy as np\n",
    "import matplotlib.pyplot as plt\n",
    "\n",
    "# 假设df已存在，且有A, B, target, label等列\n",
    "\n",
    "# 1. x方向采样：每个A_bin区间内不超过10个不同A\n",
    "sampled_x = (\n",
    "    df.groupby('A_bin')['A']\n",
    "    .unique()\n",
    "    .apply(lambda arr: np.sort(arr)[:10])\n",
    ")\n",
    "sampled_x = np.unique(np.concatenate(sampled_x.values))\n",
    "print(f\"x方向采样点数: {len(sampled_x)}\")\n",
    "\n",
    "# 2. y方向采样：每个B_bin区间内不超过10个不同B\n",
    "sampled_y = (\n",
    "    df.groupby('B_bin')['B']\n",
    "    .unique()\n",
    "    .apply(lambda arr: np.sort(arr)[:10])\n",
    ")\n",
    "sampled_y = np.unique(np.concatenate(sampled_y.values))\n",
    "print(f\"y方向采样点数: {len(sampled_y)}\")\n",
    "\n",
    "# 3. 采样点的笛卡尔积\n",
    "sample_points = pd.DataFrame([(x, y) for x in sampled_x for y in sampled_y], columns=['A', 'B'])\n",
    "\n",
    "# 4. 合并target\n",
    "sample_points = sample_points.merge(df[['A', 'B', 'target']], on=['A', 'B'], how='left')\n",
    "\n",
    "print(f\"采样点总数: {len(sample_points)}\")\n",
    "\n",
    "# 5. 画热力图\n",
    "pivot = sample_points.pivot(index='B', columns='A', values='target')\n",
    "plt.figure(figsize=(10, 6))\n",
    "# plt.imshow(pivot, aspect='auto', origin='lower', cmap='hot')\n",
    "plt.imshow(\n",
    "    pivot,\n",
    "    aspect='auto',\n",
    "    origin='lower',\n",
    "    cmap='hot',\n",
    "    extent=[\n",
    "        pivot.columns.min(), pivot.columns.max(),\n",
    "        pivot.index.min(), pivot.index.max()\n",
    "    ]\n",
    ")\n",
    "plt.colorbar(label='target')\n",
    "plt.xlabel('A')\n",
    "plt.ylabel('B')\n",
    "plt.title('Sampled target Heatmap')\n",
    "plt.show()"
   ]
  },
  {
   "cell_type": "code",
   "execution_count": null,
   "id": "f1514578",
   "metadata": {},
   "outputs": [],
   "source": []
  }
 ],
 "metadata": {
  "kernelspec": {
   "display_name": "Python 3",
   "language": "python",
   "name": "python3"
  },
  "language_info": {
   "codemirror_mode": {
    "name": "ipython",
    "version": 3
   },
   "file_extension": ".py",
   "mimetype": "text/x-python",
   "name": "python",
   "nbconvert_exporter": "python",
   "pygments_lexer": "ipython3",
   "version": "3.12.1"
  }
 },
 "nbformat": 4,
 "nbformat_minor": 5
}
